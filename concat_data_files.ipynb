{
 "cells": [
  {
   "cell_type": "code",
   "execution_count": 1,
   "metadata": {},
   "outputs": [],
   "source": [
    "import pandas as pd\n",
    "import os.path"
   ]
  },
  {
   "cell_type": "code",
   "execution_count": 6,
   "metadata": {},
   "outputs": [
    {
     "name": "stdout",
     "output_type": "stream",
     "text": [
      "5 files found.\n"
     ]
    }
   ],
   "source": [
    "data_path = 'dataset/'\n",
    "file_list = os.listdir(data_path)\n",
    "print(f\"{len(file_list)} files found.\")"
   ]
  },
  {
   "cell_type": "code",
   "execution_count": 7,
   "metadata": {},
   "outputs": [],
   "source": [
    "df_full = pd.DataFrame()\n",
    "\n",
    "base_path = 'dataset/'\n",
    "for f in file_list:\n",
    "    if df_full.empty:\n",
    "        df_full = pd.read_csv(base_path + f, parse_dates=['data'], sep=';')\n",
    "    else:\n",
    "        df_aux = pd.read_csv(base_path + f, parse_dates=['data'], sep=';')\n",
    "        df_full = pd.concat([df_full, df_aux])"
   ]
  },
  {
   "cell_type": "code",
   "execution_count": 8,
   "metadata": {},
   "outputs": [
    {
     "data": {
      "text/plain": "(702377, 17)"
     },
     "execution_count": 8,
     "metadata": {},
     "output_type": "execute_result"
    }
   ],
   "source": [
    "df_aux.shape"
   ]
  },
  {
   "cell_type": "code",
   "execution_count": 9,
   "metadata": {},
   "outputs": [
    {
     "data": {
      "text/plain": "   regiao estado municipio  coduf  codmun  codRegiaoSaude nomeRegiaoSaude  \\\n0  Brasil    NaN       NaN     76     NaN             NaN             NaN   \n1  Brasil    NaN       NaN     76     NaN             NaN             NaN   \n2  Brasil    NaN       NaN     76     NaN             NaN             NaN   \n3  Brasil    NaN       NaN     76     NaN             NaN             NaN   \n4  Brasil    NaN       NaN     76     NaN             NaN             NaN   \n\n        data  semanaEpi  populacaoTCU2019  casosAcumulado  casosNovos  \\\n0 2020-02-25          9       210147125.0             0.0           0   \n1 2020-02-26          9       210147125.0             1.0           1   \n2 2020-02-27          9       210147125.0             1.0           0   \n3 2020-02-28          9       210147125.0             1.0           0   \n4 2020-02-29          9       210147125.0             2.0           1   \n\n   obitosAcumulado  obitosNovos  Recuperadosnovos  emAcompanhamentoNovos  \\\n0                0            0               0.0                    0.0   \n1                0            0               1.0                    0.0   \n2                0            0               1.0                    0.0   \n3                0            0               0.0                    1.0   \n4                0            0               1.0                    1.0   \n\n   interior/metropolitana  \n0                     NaN  \n1                     NaN  \n2                     NaN  \n3                     NaN  \n4                     NaN  ",
      "text/html": "<div>\n<style scoped>\n    .dataframe tbody tr th:only-of-type {\n        vertical-align: middle;\n    }\n\n    .dataframe tbody tr th {\n        vertical-align: top;\n    }\n\n    .dataframe thead th {\n        text-align: right;\n    }\n</style>\n<table border=\"1\" class=\"dataframe\">\n  <thead>\n    <tr style=\"text-align: right;\">\n      <th></th>\n      <th>regiao</th>\n      <th>estado</th>\n      <th>municipio</th>\n      <th>coduf</th>\n      <th>codmun</th>\n      <th>codRegiaoSaude</th>\n      <th>nomeRegiaoSaude</th>\n      <th>data</th>\n      <th>semanaEpi</th>\n      <th>populacaoTCU2019</th>\n      <th>casosAcumulado</th>\n      <th>casosNovos</th>\n      <th>obitosAcumulado</th>\n      <th>obitosNovos</th>\n      <th>Recuperadosnovos</th>\n      <th>emAcompanhamentoNovos</th>\n      <th>interior/metropolitana</th>\n    </tr>\n  </thead>\n  <tbody>\n    <tr>\n      <th>0</th>\n      <td>Brasil</td>\n      <td>NaN</td>\n      <td>NaN</td>\n      <td>76</td>\n      <td>NaN</td>\n      <td>NaN</td>\n      <td>NaN</td>\n      <td>2020-02-25</td>\n      <td>9</td>\n      <td>210147125.0</td>\n      <td>0.0</td>\n      <td>0</td>\n      <td>0</td>\n      <td>0</td>\n      <td>0.0</td>\n      <td>0.0</td>\n      <td>NaN</td>\n    </tr>\n    <tr>\n      <th>1</th>\n      <td>Brasil</td>\n      <td>NaN</td>\n      <td>NaN</td>\n      <td>76</td>\n      <td>NaN</td>\n      <td>NaN</td>\n      <td>NaN</td>\n      <td>2020-02-26</td>\n      <td>9</td>\n      <td>210147125.0</td>\n      <td>1.0</td>\n      <td>1</td>\n      <td>0</td>\n      <td>0</td>\n      <td>1.0</td>\n      <td>0.0</td>\n      <td>NaN</td>\n    </tr>\n    <tr>\n      <th>2</th>\n      <td>Brasil</td>\n      <td>NaN</td>\n      <td>NaN</td>\n      <td>76</td>\n      <td>NaN</td>\n      <td>NaN</td>\n      <td>NaN</td>\n      <td>2020-02-27</td>\n      <td>9</td>\n      <td>210147125.0</td>\n      <td>1.0</td>\n      <td>0</td>\n      <td>0</td>\n      <td>0</td>\n      <td>1.0</td>\n      <td>0.0</td>\n      <td>NaN</td>\n    </tr>\n    <tr>\n      <th>3</th>\n      <td>Brasil</td>\n      <td>NaN</td>\n      <td>NaN</td>\n      <td>76</td>\n      <td>NaN</td>\n      <td>NaN</td>\n      <td>NaN</td>\n      <td>2020-02-28</td>\n      <td>9</td>\n      <td>210147125.0</td>\n      <td>1.0</td>\n      <td>0</td>\n      <td>0</td>\n      <td>0</td>\n      <td>0.0</td>\n      <td>1.0</td>\n      <td>NaN</td>\n    </tr>\n    <tr>\n      <th>4</th>\n      <td>Brasil</td>\n      <td>NaN</td>\n      <td>NaN</td>\n      <td>76</td>\n      <td>NaN</td>\n      <td>NaN</td>\n      <td>NaN</td>\n      <td>2020-02-29</td>\n      <td>9</td>\n      <td>210147125.0</td>\n      <td>2.0</td>\n      <td>1</td>\n      <td>0</td>\n      <td>0</td>\n      <td>1.0</td>\n      <td>1.0</td>\n      <td>NaN</td>\n    </tr>\n  </tbody>\n</table>\n</div>"
     },
     "execution_count": 9,
     "metadata": {},
     "output_type": "execute_result"
    }
   ],
   "source": [
    "df_full.head()"
   ]
  },
  {
   "cell_type": "code",
   "execution_count": 10,
   "metadata": {},
   "outputs": [
    {
     "data": {
      "text/plain": "              regiao estado municipio  coduf    codmun  codRegiaoSaude  \\\n702372  Centro-Oeste     DF  Brasília     53  530010.0         53001.0   \n702373  Centro-Oeste     DF  Brasília     53  530010.0         53001.0   \n702374  Centro-Oeste     DF  Brasília     53  530010.0         53001.0   \n702375  Centro-Oeste     DF  Brasília     53  530010.0         53001.0   \n702376  Centro-Oeste     DF  Brasília     53  530010.0         53001.0   \n\n         nomeRegiaoSaude       data  semanaEpi  populacaoTCU2019  \\\n702372  DISTRITO FEDERAL 2022-05-01         18         3015268.0   \n702373  DISTRITO FEDERAL 2022-05-02         18         3015268.0   \n702374  DISTRITO FEDERAL 2022-05-03         18         3015268.0   \n702375  DISTRITO FEDERAL 2022-05-04         18         3015268.0   \n702376  DISTRITO FEDERAL 2022-05-05         18         3015268.0   \n\n        casosAcumulado  casosNovos  obitosAcumulado  obitosNovos  \\\n702372        696487.0           0            11651            0   \n702373        696847.0         360            11652            1   \n702374        696999.0         152            11653            1   \n702375        697180.0         181            11655            2   \n702376        697373.0         193            11658            3   \n\n        Recuperadosnovos  emAcompanhamentoNovos  interior/metropolitana  \n702372               NaN                    NaN                     1.0  \n702373               NaN                    NaN                     1.0  \n702374               NaN                    NaN                     1.0  \n702375               NaN                    NaN                     1.0  \n702376               NaN                    NaN                     1.0  ",
      "text/html": "<div>\n<style scoped>\n    .dataframe tbody tr th:only-of-type {\n        vertical-align: middle;\n    }\n\n    .dataframe tbody tr th {\n        vertical-align: top;\n    }\n\n    .dataframe thead th {\n        text-align: right;\n    }\n</style>\n<table border=\"1\" class=\"dataframe\">\n  <thead>\n    <tr style=\"text-align: right;\">\n      <th></th>\n      <th>regiao</th>\n      <th>estado</th>\n      <th>municipio</th>\n      <th>coduf</th>\n      <th>codmun</th>\n      <th>codRegiaoSaude</th>\n      <th>nomeRegiaoSaude</th>\n      <th>data</th>\n      <th>semanaEpi</th>\n      <th>populacaoTCU2019</th>\n      <th>casosAcumulado</th>\n      <th>casosNovos</th>\n      <th>obitosAcumulado</th>\n      <th>obitosNovos</th>\n      <th>Recuperadosnovos</th>\n      <th>emAcompanhamentoNovos</th>\n      <th>interior/metropolitana</th>\n    </tr>\n  </thead>\n  <tbody>\n    <tr>\n      <th>702372</th>\n      <td>Centro-Oeste</td>\n      <td>DF</td>\n      <td>Brasília</td>\n      <td>53</td>\n      <td>530010.0</td>\n      <td>53001.0</td>\n      <td>DISTRITO FEDERAL</td>\n      <td>2022-05-01</td>\n      <td>18</td>\n      <td>3015268.0</td>\n      <td>696487.0</td>\n      <td>0</td>\n      <td>11651</td>\n      <td>0</td>\n      <td>NaN</td>\n      <td>NaN</td>\n      <td>1.0</td>\n    </tr>\n    <tr>\n      <th>702373</th>\n      <td>Centro-Oeste</td>\n      <td>DF</td>\n      <td>Brasília</td>\n      <td>53</td>\n      <td>530010.0</td>\n      <td>53001.0</td>\n      <td>DISTRITO FEDERAL</td>\n      <td>2022-05-02</td>\n      <td>18</td>\n      <td>3015268.0</td>\n      <td>696847.0</td>\n      <td>360</td>\n      <td>11652</td>\n      <td>1</td>\n      <td>NaN</td>\n      <td>NaN</td>\n      <td>1.0</td>\n    </tr>\n    <tr>\n      <th>702374</th>\n      <td>Centro-Oeste</td>\n      <td>DF</td>\n      <td>Brasília</td>\n      <td>53</td>\n      <td>530010.0</td>\n      <td>53001.0</td>\n      <td>DISTRITO FEDERAL</td>\n      <td>2022-05-03</td>\n      <td>18</td>\n      <td>3015268.0</td>\n      <td>696999.0</td>\n      <td>152</td>\n      <td>11653</td>\n      <td>1</td>\n      <td>NaN</td>\n      <td>NaN</td>\n      <td>1.0</td>\n    </tr>\n    <tr>\n      <th>702375</th>\n      <td>Centro-Oeste</td>\n      <td>DF</td>\n      <td>Brasília</td>\n      <td>53</td>\n      <td>530010.0</td>\n      <td>53001.0</td>\n      <td>DISTRITO FEDERAL</td>\n      <td>2022-05-04</td>\n      <td>18</td>\n      <td>3015268.0</td>\n      <td>697180.0</td>\n      <td>181</td>\n      <td>11655</td>\n      <td>2</td>\n      <td>NaN</td>\n      <td>NaN</td>\n      <td>1.0</td>\n    </tr>\n    <tr>\n      <th>702376</th>\n      <td>Centro-Oeste</td>\n      <td>DF</td>\n      <td>Brasília</td>\n      <td>53</td>\n      <td>530010.0</td>\n      <td>53001.0</td>\n      <td>DISTRITO FEDERAL</td>\n      <td>2022-05-05</td>\n      <td>18</td>\n      <td>3015268.0</td>\n      <td>697373.0</td>\n      <td>193</td>\n      <td>11658</td>\n      <td>3</td>\n      <td>NaN</td>\n      <td>NaN</td>\n      <td>1.0</td>\n    </tr>\n  </tbody>\n</table>\n</div>"
     },
     "execution_count": 10,
     "metadata": {},
     "output_type": "execute_result"
    }
   ],
   "source": [
    "df_full.tail()"
   ]
  },
  {
   "cell_type": "code",
   "execution_count": 11,
   "metadata": {},
   "outputs": [],
   "source": [
    "df_save = df_full[~df_full['municipio'].isna()].copy()"
   ]
  },
  {
   "cell_type": "code",
   "execution_count": 12,
   "metadata": {},
   "outputs": [
    {
     "data": {
      "text/plain": "(4288900, 17)"
     },
     "execution_count": 12,
     "metadata": {},
     "output_type": "execute_result"
    }
   ],
   "source": [
    "df_save.shape"
   ]
  },
  {
   "cell_type": "code",
   "execution_count": 13,
   "metadata": {},
   "outputs": [
    {
     "data": {
      "text/plain": "     regiao estado              municipio  coduf    codmun  codRegiaoSaude  \\\n4638  Norte     RO  Alta Floresta D'Oeste     11  110001.0         11005.0   \n4639  Norte     RO  Alta Floresta D'Oeste     11  110001.0         11005.0   \n4640  Norte     RO  Alta Floresta D'Oeste     11  110001.0         11005.0   \n4641  Norte     RO  Alta Floresta D'Oeste     11  110001.0         11005.0   \n4642  Norte     RO  Alta Floresta D'Oeste     11  110001.0         11005.0   \n\n     nomeRegiaoSaude       data  semanaEpi  populacaoTCU2019  casosAcumulado  \\\n4638    ZONA DA MATA 2020-03-27         13           22945.0             0.0   \n4639    ZONA DA MATA 2020-03-28         13           22945.0             0.0   \n4640    ZONA DA MATA 2020-03-29         14           22945.0             0.0   \n4641    ZONA DA MATA 2020-03-30         14           22945.0             0.0   \n4642    ZONA DA MATA 2020-03-31         14           22945.0             0.0   \n\n      casosNovos  obitosAcumulado  obitosNovos  Recuperadosnovos  \\\n4638           0                0            0               NaN   \n4639           0                0            0               NaN   \n4640           0                0            0               NaN   \n4641           0                0            0               NaN   \n4642           0                0            0               NaN   \n\n      emAcompanhamentoNovos  interior/metropolitana  \n4638                    NaN                     0.0  \n4639                    NaN                     0.0  \n4640                    NaN                     0.0  \n4641                    NaN                     0.0  \n4642                    NaN                     0.0  ",
      "text/html": "<div>\n<style scoped>\n    .dataframe tbody tr th:only-of-type {\n        vertical-align: middle;\n    }\n\n    .dataframe tbody tr th {\n        vertical-align: top;\n    }\n\n    .dataframe thead th {\n        text-align: right;\n    }\n</style>\n<table border=\"1\" class=\"dataframe\">\n  <thead>\n    <tr style=\"text-align: right;\">\n      <th></th>\n      <th>regiao</th>\n      <th>estado</th>\n      <th>municipio</th>\n      <th>coduf</th>\n      <th>codmun</th>\n      <th>codRegiaoSaude</th>\n      <th>nomeRegiaoSaude</th>\n      <th>data</th>\n      <th>semanaEpi</th>\n      <th>populacaoTCU2019</th>\n      <th>casosAcumulado</th>\n      <th>casosNovos</th>\n      <th>obitosAcumulado</th>\n      <th>obitosNovos</th>\n      <th>Recuperadosnovos</th>\n      <th>emAcompanhamentoNovos</th>\n      <th>interior/metropolitana</th>\n    </tr>\n  </thead>\n  <tbody>\n    <tr>\n      <th>4638</th>\n      <td>Norte</td>\n      <td>RO</td>\n      <td>Alta Floresta D'Oeste</td>\n      <td>11</td>\n      <td>110001.0</td>\n      <td>11005.0</td>\n      <td>ZONA DA MATA</td>\n      <td>2020-03-27</td>\n      <td>13</td>\n      <td>22945.0</td>\n      <td>0.0</td>\n      <td>0</td>\n      <td>0</td>\n      <td>0</td>\n      <td>NaN</td>\n      <td>NaN</td>\n      <td>0.0</td>\n    </tr>\n    <tr>\n      <th>4639</th>\n      <td>Norte</td>\n      <td>RO</td>\n      <td>Alta Floresta D'Oeste</td>\n      <td>11</td>\n      <td>110001.0</td>\n      <td>11005.0</td>\n      <td>ZONA DA MATA</td>\n      <td>2020-03-28</td>\n      <td>13</td>\n      <td>22945.0</td>\n      <td>0.0</td>\n      <td>0</td>\n      <td>0</td>\n      <td>0</td>\n      <td>NaN</td>\n      <td>NaN</td>\n      <td>0.0</td>\n    </tr>\n    <tr>\n      <th>4640</th>\n      <td>Norte</td>\n      <td>RO</td>\n      <td>Alta Floresta D'Oeste</td>\n      <td>11</td>\n      <td>110001.0</td>\n      <td>11005.0</td>\n      <td>ZONA DA MATA</td>\n      <td>2020-03-29</td>\n      <td>14</td>\n      <td>22945.0</td>\n      <td>0.0</td>\n      <td>0</td>\n      <td>0</td>\n      <td>0</td>\n      <td>NaN</td>\n      <td>NaN</td>\n      <td>0.0</td>\n    </tr>\n    <tr>\n      <th>4641</th>\n      <td>Norte</td>\n      <td>RO</td>\n      <td>Alta Floresta D'Oeste</td>\n      <td>11</td>\n      <td>110001.0</td>\n      <td>11005.0</td>\n      <td>ZONA DA MATA</td>\n      <td>2020-03-30</td>\n      <td>14</td>\n      <td>22945.0</td>\n      <td>0.0</td>\n      <td>0</td>\n      <td>0</td>\n      <td>0</td>\n      <td>NaN</td>\n      <td>NaN</td>\n      <td>0.0</td>\n    </tr>\n    <tr>\n      <th>4642</th>\n      <td>Norte</td>\n      <td>RO</td>\n      <td>Alta Floresta D'Oeste</td>\n      <td>11</td>\n      <td>110001.0</td>\n      <td>11005.0</td>\n      <td>ZONA DA MATA</td>\n      <td>2020-03-31</td>\n      <td>14</td>\n      <td>22945.0</td>\n      <td>0.0</td>\n      <td>0</td>\n      <td>0</td>\n      <td>0</td>\n      <td>NaN</td>\n      <td>NaN</td>\n      <td>0.0</td>\n    </tr>\n  </tbody>\n</table>\n</div>"
     },
     "execution_count": 13,
     "metadata": {},
     "output_type": "execute_result"
    }
   ],
   "source": [
    "df_save.head()"
   ]
  },
  {
   "cell_type": "code",
   "execution_count": 14,
   "metadata": {},
   "outputs": [
    {
     "data": {
      "text/plain": "array(['AC', 'AL', 'AM', 'AP', 'BA', 'CE', 'DF', 'ES', 'GO', 'MA', 'MG',\n       'MS', 'MT', 'PA', 'PB', 'PE', 'PI', 'PR', 'RJ', 'RN', 'RO', 'RR',\n       'RS', 'SC', 'SE', 'SP', 'TO'], dtype=object)"
     },
     "execution_count": 14,
     "metadata": {},
     "output_type": "execute_result"
    }
   ],
   "source": [
    "uf_estados = df_save['estado'].sort_values().unique()\n",
    "uf_estados"
   ]
  },
  {
   "cell_type": "code",
   "execution_count": 15,
   "metadata": {},
   "outputs": [
    {
     "data": {
      "text/plain": "27"
     },
     "execution_count": 15,
     "metadata": {},
     "output_type": "execute_result"
    }
   ],
   "source": [
    "len(uf_estados)"
   ]
  },
  {
   "cell_type": "code",
   "execution_count": 1,
   "metadata": {},
   "outputs": [],
   "source": [
    "nome_estados = ['Acre', 'Alagoas', 'Amazonas', 'Amapá', 'Bahia', 'Ceará', 'Distrito Federal', 'Espírito Santo', 'Goiás', 'Maranhão', 'Minas Gerais',\n",
    "               'Mato Grosso do Sul', 'Mato Grosso', 'Pará', 'Paraíba', 'Pernambuco', 'Piauí', 'Paraná', 'Rio de Janeiro',\n",
    "               'Rio Grande do Norte', 'Rondônia', 'Roraima', 'Rio Grande do Sul', 'Santa Catarina', 'Sergipe', 'São Paulo', 'Tocantins']"
   ]
  },
  {
   "cell_type": "code",
   "execution_count": 17,
   "metadata": {},
   "outputs": [
    {
     "data": {
      "text/plain": "27"
     },
     "execution_count": 17,
     "metadata": {},
     "output_type": "execute_result"
    }
   ],
   "source": [
    "len(nome_estados)"
   ]
  },
  {
   "cell_type": "code",
   "execution_count": 18,
   "metadata": {},
   "outputs": [
    {
     "name": "stdout",
     "output_type": "stream",
     "text": [
      "AC - Acre\n",
      "AL - Alagoas\n",
      "AM - Amapá\n",
      "AP - Amazonas\n",
      "BA - Bahia\n",
      "CE - Ceará\n",
      "DF - Distrito Federal\n",
      "ES - Espírito Santo\n",
      "GO - Goiás\n",
      "MA - Maranhão\n",
      "MG - Minas Gerais\n",
      "MS - Mato Grosso do Sul\n",
      "MT - Mato Grosso\n",
      "PA - Pará\n",
      "PB - Paraíba\n",
      "PE - Pernambuco\n",
      "PI - Piauí\n",
      "PR - Paraná\n",
      "RJ - Rio de Janeiro\n",
      "RN - Rio Grande do Norte\n",
      "RO - Rondônia\n",
      "RR - Roraima\n",
      "RS - Rio Grande do Sul\n",
      "SC - Santa Catarina\n",
      "SE - Sergipe\n",
      "SP - São Paulo\n",
      "TO - Tocantins\n"
     ]
    }
   ],
   "source": [
    "i = 0\n",
    "for uf in uf_estados:\n",
    "    print(uf + ' - ' + nome_estados[i])\n",
    "    cond = df_save['estado'] == uf\n",
    "    df_save.loc[cond, 'estado'] = nome_estados[i]\n",
    "    i += 1"
   ]
  },
  {
   "cell_type": "code",
   "execution_count": 19,
   "metadata": {},
   "outputs": [
    {
     "data": {
      "text/plain": "     regiao    estado              municipio  coduf    codmun  codRegiaoSaude  \\\n4638  Norte  Rondônia  Alta Floresta D'Oeste     11  110001.0         11005.0   \n4639  Norte  Rondônia  Alta Floresta D'Oeste     11  110001.0         11005.0   \n4640  Norte  Rondônia  Alta Floresta D'Oeste     11  110001.0         11005.0   \n4641  Norte  Rondônia  Alta Floresta D'Oeste     11  110001.0         11005.0   \n4642  Norte  Rondônia  Alta Floresta D'Oeste     11  110001.0         11005.0   \n\n     nomeRegiaoSaude       data  semanaEpi  populacaoTCU2019  casosAcumulado  \\\n4638    ZONA DA MATA 2020-03-27         13           22945.0             0.0   \n4639    ZONA DA MATA 2020-03-28         13           22945.0             0.0   \n4640    ZONA DA MATA 2020-03-29         14           22945.0             0.0   \n4641    ZONA DA MATA 2020-03-30         14           22945.0             0.0   \n4642    ZONA DA MATA 2020-03-31         14           22945.0             0.0   \n\n      casosNovos  obitosAcumulado  obitosNovos  Recuperadosnovos  \\\n4638           0                0            0               NaN   \n4639           0                0            0               NaN   \n4640           0                0            0               NaN   \n4641           0                0            0               NaN   \n4642           0                0            0               NaN   \n\n      emAcompanhamentoNovos  interior/metropolitana  \n4638                    NaN                     0.0  \n4639                    NaN                     0.0  \n4640                    NaN                     0.0  \n4641                    NaN                     0.0  \n4642                    NaN                     0.0  ",
      "text/html": "<div>\n<style scoped>\n    .dataframe tbody tr th:only-of-type {\n        vertical-align: middle;\n    }\n\n    .dataframe tbody tr th {\n        vertical-align: top;\n    }\n\n    .dataframe thead th {\n        text-align: right;\n    }\n</style>\n<table border=\"1\" class=\"dataframe\">\n  <thead>\n    <tr style=\"text-align: right;\">\n      <th></th>\n      <th>regiao</th>\n      <th>estado</th>\n      <th>municipio</th>\n      <th>coduf</th>\n      <th>codmun</th>\n      <th>codRegiaoSaude</th>\n      <th>nomeRegiaoSaude</th>\n      <th>data</th>\n      <th>semanaEpi</th>\n      <th>populacaoTCU2019</th>\n      <th>casosAcumulado</th>\n      <th>casosNovos</th>\n      <th>obitosAcumulado</th>\n      <th>obitosNovos</th>\n      <th>Recuperadosnovos</th>\n      <th>emAcompanhamentoNovos</th>\n      <th>interior/metropolitana</th>\n    </tr>\n  </thead>\n  <tbody>\n    <tr>\n      <th>4638</th>\n      <td>Norte</td>\n      <td>Rondônia</td>\n      <td>Alta Floresta D'Oeste</td>\n      <td>11</td>\n      <td>110001.0</td>\n      <td>11005.0</td>\n      <td>ZONA DA MATA</td>\n      <td>2020-03-27</td>\n      <td>13</td>\n      <td>22945.0</td>\n      <td>0.0</td>\n      <td>0</td>\n      <td>0</td>\n      <td>0</td>\n      <td>NaN</td>\n      <td>NaN</td>\n      <td>0.0</td>\n    </tr>\n    <tr>\n      <th>4639</th>\n      <td>Norte</td>\n      <td>Rondônia</td>\n      <td>Alta Floresta D'Oeste</td>\n      <td>11</td>\n      <td>110001.0</td>\n      <td>11005.0</td>\n      <td>ZONA DA MATA</td>\n      <td>2020-03-28</td>\n      <td>13</td>\n      <td>22945.0</td>\n      <td>0.0</td>\n      <td>0</td>\n      <td>0</td>\n      <td>0</td>\n      <td>NaN</td>\n      <td>NaN</td>\n      <td>0.0</td>\n    </tr>\n    <tr>\n      <th>4640</th>\n      <td>Norte</td>\n      <td>Rondônia</td>\n      <td>Alta Floresta D'Oeste</td>\n      <td>11</td>\n      <td>110001.0</td>\n      <td>11005.0</td>\n      <td>ZONA DA MATA</td>\n      <td>2020-03-29</td>\n      <td>14</td>\n      <td>22945.0</td>\n      <td>0.0</td>\n      <td>0</td>\n      <td>0</td>\n      <td>0</td>\n      <td>NaN</td>\n      <td>NaN</td>\n      <td>0.0</td>\n    </tr>\n    <tr>\n      <th>4641</th>\n      <td>Norte</td>\n      <td>Rondônia</td>\n      <td>Alta Floresta D'Oeste</td>\n      <td>11</td>\n      <td>110001.0</td>\n      <td>11005.0</td>\n      <td>ZONA DA MATA</td>\n      <td>2020-03-30</td>\n      <td>14</td>\n      <td>22945.0</td>\n      <td>0.0</td>\n      <td>0</td>\n      <td>0</td>\n      <td>0</td>\n      <td>NaN</td>\n      <td>NaN</td>\n      <td>0.0</td>\n    </tr>\n    <tr>\n      <th>4642</th>\n      <td>Norte</td>\n      <td>Rondônia</td>\n      <td>Alta Floresta D'Oeste</td>\n      <td>11</td>\n      <td>110001.0</td>\n      <td>11005.0</td>\n      <td>ZONA DA MATA</td>\n      <td>2020-03-31</td>\n      <td>14</td>\n      <td>22945.0</td>\n      <td>0.0</td>\n      <td>0</td>\n      <td>0</td>\n      <td>0</td>\n      <td>NaN</td>\n      <td>NaN</td>\n      <td>0.0</td>\n    </tr>\n  </tbody>\n</table>\n</div>"
     },
     "execution_count": 19,
     "metadata": {},
     "output_type": "execute_result"
    }
   ],
   "source": [
    "df_save.head()"
   ]
  },
  {
   "cell_type": "code",
   "execution_count": null,
   "metadata": {
    "pycharm": {
     "is_executing": true
    }
   },
   "outputs": [],
   "source": [
    "df_save.to_csv('dataset/' + 'covid_data_full.csv', sep=';', index=False)"
   ]
  },
  {
   "cell_type": "code",
   "execution_count": 3,
   "outputs": [
    {
     "data": {
      "text/plain": "              coduf        codmun  codRegiaoSaude     semanaEpi  \\\ncount  4.288900e+06  4.288900e+06    4.288900e+06  4.288900e+06   \nmean   3.237774e+01  3.253586e+05    3.240312e+04  2.625065e+01   \nstd    9.832980e+00  9.848220e+04    9.836342e+03  1.498912e+01   \nmin    1.100000e+01  1.100010e+05    1.100100e+04  1.000000e+00   \n25%    2.500000e+01  2.512100e+05    2.501000e+04  1.400000e+01   \n50%    3.100000e+01  3.146275e+05    3.105900e+04  2.550000e+01   \n75%    4.100000e+01  4.119200e+05    4.101500e+04  3.900000e+01   \nmax    5.300000e+01  5.300100e+05    5.300100e+04  5.300000e+01   \n\n       populacaoTCU2019  casosAcumulado    casosNovos  obitosAcumulado  \\\ncount      4.288900e+06    4.288900e+06  4.288900e+06     4.288900e+06   \nmean       3.772839e+04    2.457127e+03  7.102589e+00     6.451239e+01   \nstd        2.214382e+05    1.551615e+04  1.334892e+02     5.864417e+02   \nmin        7.810000e+02    0.000000e+00 -7.360800e+04     0.000000e+00   \n25%        5.446000e+03    1.100000e+02  0.000000e+00     2.000000e+00   \n50%        1.163100e+04    4.660000e+02  0.000000e+00     9.000000e+00   \n75%        2.549200e+04    1.405000e+03  2.000000e+00     2.900000e+01   \nmax        1.225202e+07    1.057418e+06  7.323500e+04     4.229300e+04   \n\n        obitosNovos  Recuperadosnovos  emAcompanhamentoNovos  \\\ncount  4.288900e+06               0.0                    0.0   \nmean   1.544928e-01               NaN                    NaN   \nstd    5.098247e+00               NaN                    NaN   \nmin   -4.109000e+03               NaN                    NaN   \n25%    0.000000e+00               NaN                    NaN   \n50%    0.000000e+00               NaN                    NaN   \n75%    0.000000e+00               NaN                    NaN   \nmax    4.109000e+03               NaN                    NaN   \n\n       interior/metropolitana  \ncount            4.288900e+06  \nmean             6.929982e-02  \nstd              2.539633e-01  \nmin              0.000000e+00  \n25%              0.000000e+00  \n50%              0.000000e+00  \n75%              0.000000e+00  \nmax              1.000000e+00  ",
      "text/html": "<div>\n<style scoped>\n    .dataframe tbody tr th:only-of-type {\n        vertical-align: middle;\n    }\n\n    .dataframe tbody tr th {\n        vertical-align: top;\n    }\n\n    .dataframe thead th {\n        text-align: right;\n    }\n</style>\n<table border=\"1\" class=\"dataframe\">\n  <thead>\n    <tr style=\"text-align: right;\">\n      <th></th>\n      <th>coduf</th>\n      <th>codmun</th>\n      <th>codRegiaoSaude</th>\n      <th>semanaEpi</th>\n      <th>populacaoTCU2019</th>\n      <th>casosAcumulado</th>\n      <th>casosNovos</th>\n      <th>obitosAcumulado</th>\n      <th>obitosNovos</th>\n      <th>Recuperadosnovos</th>\n      <th>emAcompanhamentoNovos</th>\n      <th>interior/metropolitana</th>\n    </tr>\n  </thead>\n  <tbody>\n    <tr>\n      <th>count</th>\n      <td>4.288900e+06</td>\n      <td>4.288900e+06</td>\n      <td>4.288900e+06</td>\n      <td>4.288900e+06</td>\n      <td>4.288900e+06</td>\n      <td>4.288900e+06</td>\n      <td>4.288900e+06</td>\n      <td>4.288900e+06</td>\n      <td>4.288900e+06</td>\n      <td>0.0</td>\n      <td>0.0</td>\n      <td>4.288900e+06</td>\n    </tr>\n    <tr>\n      <th>mean</th>\n      <td>3.237774e+01</td>\n      <td>3.253586e+05</td>\n      <td>3.240312e+04</td>\n      <td>2.625065e+01</td>\n      <td>3.772839e+04</td>\n      <td>2.457127e+03</td>\n      <td>7.102589e+00</td>\n      <td>6.451239e+01</td>\n      <td>1.544928e-01</td>\n      <td>NaN</td>\n      <td>NaN</td>\n      <td>6.929982e-02</td>\n    </tr>\n    <tr>\n      <th>std</th>\n      <td>9.832980e+00</td>\n      <td>9.848220e+04</td>\n      <td>9.836342e+03</td>\n      <td>1.498912e+01</td>\n      <td>2.214382e+05</td>\n      <td>1.551615e+04</td>\n      <td>1.334892e+02</td>\n      <td>5.864417e+02</td>\n      <td>5.098247e+00</td>\n      <td>NaN</td>\n      <td>NaN</td>\n      <td>2.539633e-01</td>\n    </tr>\n    <tr>\n      <th>min</th>\n      <td>1.100000e+01</td>\n      <td>1.100010e+05</td>\n      <td>1.100100e+04</td>\n      <td>1.000000e+00</td>\n      <td>7.810000e+02</td>\n      <td>0.000000e+00</td>\n      <td>-7.360800e+04</td>\n      <td>0.000000e+00</td>\n      <td>-4.109000e+03</td>\n      <td>NaN</td>\n      <td>NaN</td>\n      <td>0.000000e+00</td>\n    </tr>\n    <tr>\n      <th>25%</th>\n      <td>2.500000e+01</td>\n      <td>2.512100e+05</td>\n      <td>2.501000e+04</td>\n      <td>1.400000e+01</td>\n      <td>5.446000e+03</td>\n      <td>1.100000e+02</td>\n      <td>0.000000e+00</td>\n      <td>2.000000e+00</td>\n      <td>0.000000e+00</td>\n      <td>NaN</td>\n      <td>NaN</td>\n      <td>0.000000e+00</td>\n    </tr>\n    <tr>\n      <th>50%</th>\n      <td>3.100000e+01</td>\n      <td>3.146275e+05</td>\n      <td>3.105900e+04</td>\n      <td>2.550000e+01</td>\n      <td>1.163100e+04</td>\n      <td>4.660000e+02</td>\n      <td>0.000000e+00</td>\n      <td>9.000000e+00</td>\n      <td>0.000000e+00</td>\n      <td>NaN</td>\n      <td>NaN</td>\n      <td>0.000000e+00</td>\n    </tr>\n    <tr>\n      <th>75%</th>\n      <td>4.100000e+01</td>\n      <td>4.119200e+05</td>\n      <td>4.101500e+04</td>\n      <td>3.900000e+01</td>\n      <td>2.549200e+04</td>\n      <td>1.405000e+03</td>\n      <td>2.000000e+00</td>\n      <td>2.900000e+01</td>\n      <td>0.000000e+00</td>\n      <td>NaN</td>\n      <td>NaN</td>\n      <td>0.000000e+00</td>\n    </tr>\n    <tr>\n      <th>max</th>\n      <td>5.300000e+01</td>\n      <td>5.300100e+05</td>\n      <td>5.300100e+04</td>\n      <td>5.300000e+01</td>\n      <td>1.225202e+07</td>\n      <td>1.057418e+06</td>\n      <td>7.323500e+04</td>\n      <td>4.229300e+04</td>\n      <td>4.109000e+03</td>\n      <td>NaN</td>\n      <td>NaN</td>\n      <td>1.000000e+00</td>\n    </tr>\n  </tbody>\n</table>\n</div>"
     },
     "execution_count": 3,
     "metadata": {},
     "output_type": "execute_result"
    }
   ],
   "source": [
    "df1 = pd.read_csv('dataset/covid_data_full.csv', sep=';')\n",
    "df1.describe()"
   ],
   "metadata": {
    "collapsed": false,
    "pycharm": {
     "name": "#%%\n"
    }
   }
  },
  {
   "cell_type": "code",
   "execution_count": null,
   "outputs": [],
   "source": [],
   "metadata": {
    "collapsed": false,
    "pycharm": {
     "name": "#%%\n"
    }
   }
  }
 ],
 "metadata": {
  "kernelspec": {
   "display_name": "Python 3",
   "language": "python",
   "name": "python3"
  },
  "language_info": {
   "codemirror_mode": {
    "name": "ipython",
    "version": 3
   },
   "file_extension": ".py",
   "mimetype": "text/x-python",
   "name": "python",
   "nbconvert_exporter": "python",
   "pygments_lexer": "ipython3",
   "version": "3.8.6"
  }
 },
 "nbformat": 4,
 "nbformat_minor": 4
}